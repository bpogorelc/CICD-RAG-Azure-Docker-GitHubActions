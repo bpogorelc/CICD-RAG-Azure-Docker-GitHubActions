{
 "cells": [
  {
   "cell_type": "code",
   "execution_count": 1,
   "id": "50b5745f",
   "metadata": {},
   "outputs": [
    {
     "name": "stderr",
     "output_type": "stream",
     "text": [
      "c:\\Users\\Bogdan\\Anaconda3\\envs\\cicdpy311\\Lib\\site-packages\\requests\\__init__.py:86: RequestsDependencyWarning: Unable to find acceptable character detection dependency (chardet or charset_normalizer).\n",
      "  warnings.warn(\n"
     ]
    },
    {
     "name": "stdout",
     "output_type": "stream",
     "text": [
      "Health Status: 200\n",
      "Health Response: {\"status\":\"healthy\",\"openai_client\":\"initialized\",\"search_client\":\"initialized\",\"environment\":{\"OPENAI_API_KEY\":\"set\",\"SEARCH_SERVICE_NAME\":\"https://demo-bogdan-search.search.windows.net\",\"SEARCH_API_KEY\":\"set\",\"SEARCH_INDEX_NAME\":\"demo-index\"}}\n",
      "Ask Status: 200\n",
      "Ask Response: {\"response\":\"Here are some of the best Cabernet Sauvignon wines in Napa Valley above 94 points:\\n\\n1. Alejandro Bulgheroni Lithology Beckstoffer Dr. Crane Vineyard Cabernet Sauvignon 2017 - Rating: 94.0\\n2. Alejandro Bulgheroni Lithology Beckstoffer To Kalon Vineyard Cabernet Sauvignon 2016 - Rating: 97.0\\n\\nThese wines have received high ratings and are known for their exceptional quality. Enjoy exploring these options!\"}\n",
      "JSON Response: {'response': 'Here are some of the best Cabernet Sauvignon wines in Napa Valley above 94 points:\\n\\n1. Alejandro Bulgheroni Lithology Beckstoffer Dr. Crane Vineyard Cabernet Sauvignon 2017 - Rating: 94.0\\n2. Alejandro Bulgheroni Lithology Beckstoffer To Kalon Vineyard Cabernet Sauvignon 2016 - Rating: 97.0\\n\\nThese wines have received high ratings and are known for their exceptional quality. Enjoy exploring these options!'}\n"
     ]
    }
   ],
   "source": [
    "import requests\n",
    "\n",
    "# Test with correct field name and better error handling\n",
    "url = \"https://rg1.bravesand-0daa5720.eastus.azurecontainerapps.io\"\n",
    "\n",
    "# First test health endpoint\n",
    "health_response = requests.get(f\"{url}/health\")\n",
    "print(f\"Health Status: {health_response.status_code}\")\n",
    "print(f\"Health Response: {health_response.text}\")\n",
    "\n",
    "# Then test the ask endpoint\n",
    "query = \"What is the best Cabernet Sauvignon wine in Napa Valley above 94 points\"\n",
    "ask_response = requests.post(f\"{url}/ask\", json={\"message\": query})  # ✅ Use \"message\"\n",
    "\n",
    "print(f\"Ask Status: {ask_response.status_code}\")\n",
    "print(f\"Ask Response: {ask_response.text}\")\n",
    "\n",
    "if ask_response.status_code == 200:\n",
    "    try:\n",
    "        print(f\"JSON Response: {ask_response.json()}\")\n",
    "    except:\n",
    "        print(\"Response is not valid JSON\")"
   ]
  }
 ],
 "metadata": {
  "kernelspec": {
   "display_name": "cicdpy311",
   "language": "python",
   "name": "python3"
  },
  "language_info": {
   "codemirror_mode": {
    "name": "ipython",
    "version": 3
   },
   "file_extension": ".py",
   "mimetype": "text/x-python",
   "name": "python",
   "nbconvert_exporter": "python",
   "pygments_lexer": "ipython3",
   "version": "3.11.13"
  }
 },
 "nbformat": 4,
 "nbformat_minor": 5
}
